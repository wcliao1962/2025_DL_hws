{
  "nbformat": 4,
  "nbformat_minor": 0,
  "metadata": {
    "colab": {
      "provenance": [],
      "include_colab_link": true
    },
    "kernelspec": {
      "name": "python3",
      "display_name": "Python 3"
    },
    "language_info": {
      "name": "python"
    }
  },
  "cells": [
    {
      "cell_type": "markdown",
      "metadata": {
        "id": "view-in-github",
        "colab_type": "text"
      },
      "source": [
        "<a href=\"https://colab.research.google.com/github/wcliao1962/2025_DL_hws/blob/main/hw6_2_%E5%8F%83%E8%80%83%E7%AD%94%E6%A1%88.ipynb\" target=\"_parent\"><img src=\"https://colab.research.google.com/assets/colab-badge.svg\" alt=\"Open In Colab\"/></a>"
      ]
    },
    {
      "cell_type": "markdown",
      "source": [
        "# hw6-2\n"
      ],
      "metadata": {
        "id": "6tfoceVe2BM-"
      }
    },
    {
      "cell_type": "markdown",
      "source": [
        "## hw6-2_第2題 (參考冒險旅程 26)"
      ],
      "metadata": {
        "id": "_TzgcViSCaSA"
      }
    },
    {
      "cell_type": "markdown",
      "source": [
        "因為等下會需要模擬神經元的計算，所以需要我們的老朋友`NumPy`"
      ],
      "metadata": {
        "id": "8ME7fPha7PtC"
      }
    },
    {
      "cell_type": "code",
      "source": [
        "import numpy as np"
      ],
      "metadata": {
        "id": "2RyXrjgX7Fv2"
      },
      "execution_count": null,
      "outputs": []
    },
    {
      "cell_type": "markdown",
      "source": [
        "#### 1. 一起回憶一下在冒險19 學到的一個RNN 神經元的架構，寫一個小程式模擬神經元的運算。假設輸入是三個字，起始隱藏狀態是零向量，自己設定起始權重和偏移值，計算$ h_{1} $。"
      ],
      "metadata": {
        "id": "A5W76AGUGyS2"
      }
    },
    {
      "cell_type": "markdown",
      "source": [
        "因為RNN神經元使用的激發函數是 $ \\text{tanh} $ ，而老朋友`Numpy`已經有寫好的函式可以用：`np.tanh()`...     \n",
        "我們就直接開始計算吧！"
      ],
      "metadata": {
        "id": "TlGKGtRd7aLs"
      }
    },
    {
      "cell_type": "markdown",
      "source": [
        "假設RNN起始隱藏狀態 $ \\mathbf{h_{0}} $ 是零向量："
      ],
      "metadata": {
        "id": "kWGcgtEm81w_"
      }
    },
    {
      "cell_type": "code",
      "source": [
        "h0 = np.array([0, 0, 0, 0])\n",
        "h0"
      ],
      "metadata": {
        "colab": {
          "base_uri": "https://localhost:8080/"
        },
        "id": "CADFUxp459iD",
        "outputId": "7f8cd6c3-f3cc-44b7-cd86-69b83ce5349c"
      },
      "execution_count": null,
      "outputs": [
        {
          "output_type": "execute_result",
          "data": {
            "text/plain": [
              "array([0, 0, 0, 0])"
            ]
          },
          "metadata": {},
          "execution_count": 37
        }
      ]
    },
    {
      "cell_type": "markdown",
      "source": [
        "假設輸入是三個字：x1, x2, x3"
      ],
      "metadata": {
        "id": "-ep71Qi_8kfc"
      }
    },
    {
      "cell_type": "code",
      "source": [
        "X = np.random.randint(0, 10, size=(3,3))\n",
        "X"
      ],
      "metadata": {
        "colab": {
          "base_uri": "https://localhost:8080/"
        },
        "id": "3D-Mn7pP7Dhh",
        "outputId": "e3480840-bcc0-423b-bb1e-d60f90e685b2"
      },
      "execution_count": null,
      "outputs": [
        {
          "output_type": "execute_result",
          "data": {
            "text/plain": [
              "array([[0, 6, 6],\n",
              "       [6, 1, 4],\n",
              "       [3, 6, 6]])"
            ]
          },
          "metadata": {},
          "execution_count": 38
        }
      ]
    },
    {
      "cell_type": "code",
      "source": [
        "x1 = X[0]\n",
        "x2 = X[1]\n",
        "x3 = X[2]"
      ],
      "metadata": {
        "id": "sDuSpEq3k8XJ"
      },
      "execution_count": null,
      "outputs": []
    },
    {
      "cell_type": "code",
      "source": [
        "x1, x2, x3"
      ],
      "metadata": {
        "colab": {
          "base_uri": "https://localhost:8080/"
        },
        "id": "xhTHeUiLOQp1",
        "outputId": "0599b6ba-8d55-434b-99e3-961616b29d28"
      },
      "execution_count": null,
      "outputs": [
        {
          "output_type": "execute_result",
          "data": {
            "text/plain": [
              "(array([0, 6, 6]), array([6, 1, 4]), array([3, 6, 6]))"
            ]
          },
          "metadata": {},
          "execution_count": 64
        }
      ]
    },
    {
      "cell_type": "markdown",
      "source": [
        "假設起始權重和偏移值分別為：     \n",
        "$W^{x}=\n",
        "\\left[\n",
        "\\begin{matrix}\n",
        "1 & -1 & 0 & 0.5 \\\\\n",
        "2 & 0  &-1 & 3\\\\\n",
        "1.5 & 1& 2 & 1\n",
        "\\end{matrix}\n",
        "\\right]$、\n",
        "$W^{h} =\n",
        "\\left[\n",
        "\\begin{matrix}\n",
        "1.2 & 0.3 &0.1 & 0.6  \\\\\n",
        "0.4 & 2 & 1 & 0.1 \\\\\n",
        "0.2 & 1.3 &0.7 & 1.6  \\\\\n",
        "2.4 & 0.2 &0.1 & 0.7\n",
        "\\end{matrix}\n",
        "\\right]$、\n",
        "$b=\n",
        "\\left[\n",
        "\\begin{matrix}\n",
        "0.3 \\\\\n",
        "0.8 \\\\\n",
        "0.5 \\\\\n",
        "0.2\n",
        "\\end{matrix}\n",
        "\\right]$"
      ],
      "metadata": {
        "id": "szkjWBIH876Y"
      }
    },
    {
      "cell_type": "code",
      "source": [
        "Wx = np.array([[1, -1, 0, 0.5], [2, 0, -1, 3], [1.5, 1, 2, -1]])\n",
        "Wh = np.array([[1.2, 0.3, 0.1, 0.6], [0.4, 2, 1, 0.1], [0.2, 1.3, 0.7, 1.6], [2.4, 0.2, 0.1, 0.7]])\n",
        "b = np.array([0.3, 0.8, 0.5, 0.2])"
      ],
      "metadata": {
        "id": "qhrUYIHo99xA"
      },
      "execution_count": null,
      "outputs": []
    },
    {
      "cell_type": "markdown",
      "source": [
        "$ h_{1} = \\sigma (x_{1}W^{x} + h_{0}W^{h} + b) $"
      ],
      "metadata": {
        "id": "u44jEyAJiv4L"
      }
    },
    {
      "cell_type": "markdown",
      "source": [
        "先計算出激發函式裡的矩陣計算，計算結果叫 $ z_{1} $：     \n",
        "$ z_1= x_{1}W^{x} + h_{0}W^{h} + b $"
      ],
      "metadata": {
        "id": "IbYM1l81_sRX"
      }
    },
    {
      "cell_type": "code",
      "source": [
        "# 給x1, h0\n",
        "z1 = np.dot(x1, Wx) + np.dot(h0, Wh) + b\n",
        "z1"
      ],
      "metadata": {
        "colab": {
          "base_uri": "https://localhost:8080/"
        },
        "id": "m0WKoFWu-JxK",
        "outputId": "37dc4004-e652-4750-b489-70ef64df6618"
      },
      "execution_count": null,
      "outputs": [
        {
          "output_type": "execute_result",
          "data": {
            "text/plain": [
              "array([21.3,  6.8,  6.5, 12.2])"
            ]
          },
          "metadata": {},
          "execution_count": 41
        }
      ]
    },
    {
      "cell_type": "markdown",
      "source": [
        "最後，$ h_{1} = \\sigma (z_1) $"
      ],
      "metadata": {
        "id": "z-HHB7f1_8uJ"
      }
    },
    {
      "cell_type": "code",
      "source": [
        "h1 = np.tanh(z1)\n",
        "h1"
      ],
      "metadata": {
        "colab": {
          "base_uri": "https://localhost:8080/"
        },
        "id": "UI2MryaK-QtQ",
        "outputId": "fa29b195-cd75-40fc-9a2f-6864180d67b1"
      },
      "execution_count": null,
      "outputs": [
        {
          "output_type": "execute_result",
          "data": {
            "text/plain": [
              "array([1.        , 0.99999752, 0.99999548, 1.        ])"
            ]
          },
          "metadata": {},
          "execution_count": 42
        }
      ]
    },
    {
      "cell_type": "markdown",
      "source": [
        "#### 2. 再做一次RNN，算出計算$ h_{2} $。記得RNN 神經元使用的激發函數是tanh 喔！"
      ],
      "metadata": {
        "id": "p8rtyMO8Iszk"
      }
    },
    {
      "cell_type": "markdown",
      "source": [
        "$ h_{2} = \\sigma (x^{2}_{t}W^{x} + h_{1}W^{h} + b) $"
      ],
      "metadata": {
        "id": "T4EbSBxVnazq"
      }
    },
    {
      "cell_type": "markdown",
      "source": [
        "先算出激發函式裡的那一串，叫 $ z_2 $：     \n",
        "$ z_2 = w^{x}x^{2}_{t} + w^{h}h_{1} + b $"
      ],
      "metadata": {
        "id": "oYWGMoctna0G"
      }
    },
    {
      "cell_type": "code",
      "source": [
        "# 給x2, h1\n",
        "z2 = np.dot(x2, Wx) + np.dot(h1, Wh) + b\n",
        "z2"
      ],
      "metadata": {
        "colab": {
          "base_uri": "https://localhost:8080/"
        },
        "outputId": "f7813c6f-e65d-4edf-8477-e515ae10fa48",
        "id": "vsOU9V6-na0G"
      },
      "execution_count": null,
      "outputs": [
        {
          "output_type": "execute_result",
          "data": {
            "text/plain": [
              "array([18.4999981 ,  2.59998916,  9.39999435,  5.19999252])"
            ]
          },
          "metadata": {},
          "execution_count": 43
        }
      ]
    },
    {
      "cell_type": "markdown",
      "source": [
        "最後，$ h_{2} = \\sigma (z_{h_{2}}) $"
      ],
      "metadata": {
        "id": "v8g9kJhVna0H"
      }
    },
    {
      "cell_type": "code",
      "source": [
        "h2 = np.tanh(z2)\n",
        "h2"
      ],
      "metadata": {
        "colab": {
          "base_uri": "https://localhost:8080/"
        },
        "outputId": "9ab0eee3-1348-415b-c5a7-eebceb2fce91",
        "id": "UhvqR9fjna0I"
      },
      "execution_count": null,
      "outputs": [
        {
          "output_type": "execute_result",
          "data": {
            "text/plain": [
              "array([1.        , 0.98902717, 0.99999999, 0.99993914])"
            ]
          },
          "metadata": {},
          "execution_count": 44
        }
      ]
    },
    {
      "cell_type": "markdown",
      "source": [
        "#### 3. 計算計算$ h_{1} $"
      ],
      "metadata": {
        "id": "yIij9gkFn6xh"
      }
    },
    {
      "cell_type": "code",
      "source": [
        "# 給x3, h2\n",
        "z3 = np.dot(x3, Wx) + np.dot(h2, Wh) + b\n",
        "z3"
      ],
      "metadata": {
        "colab": {
          "base_uri": "https://localhost:8080/"
        },
        "outputId": "3347f64b-d3e0-4870-9170-a7ddd7ae8190",
        "id": "SDZ6XD-Dc3MK"
      },
      "execution_count": null,
      "outputs": [
        {
          "output_type": "execute_result",
          "data": {
            "text/plain": [
              "array([28.49546479,  7.57804214,  8.38902107, 16.69886009])"
            ]
          },
          "metadata": {},
          "execution_count": 45
        }
      ]
    },
    {
      "cell_type": "code",
      "source": [
        "h3 = np.tanh(z3)\n",
        "h3"
      ],
      "metadata": {
        "colab": {
          "base_uri": "https://localhost:8080/"
        },
        "outputId": "1fa4161c-6a38-4cfc-cde8-bf5cc651e6ff",
        "id": "LN__v9nVdPPZ"
      },
      "execution_count": null,
      "outputs": [
        {
          "output_type": "execute_result",
          "data": {
            "text/plain": [
              "array([1.        , 0.99999948, 0.9999999 , 1.        ])"
            ]
          },
          "metadata": {},
          "execution_count": 46
        }
      ]
    },
    {
      "cell_type": "code",
      "source": [],
      "metadata": {
        "id": "6mGAvRT9lNnS"
      },
      "execution_count": null,
      "outputs": []
    },
    {
      "cell_type": "markdown",
      "source": [
        "============================================================="
      ],
      "metadata": {
        "id": "06EHcA5ionHX"
      }
    },
    {
      "cell_type": "markdown",
      "source": [
        "## hw6-2_第3題 (參考冒險旅程 27)"
      ],
      "metadata": {
        "id": "bkDm-Vbfjpf_"
      }
    },
    {
      "cell_type": "code",
      "source": [
        "S3 = np.array([2, 5, 3, 1])\n",
        "S3"
      ],
      "metadata": {
        "colab": {
          "base_uri": "https://localhost:8080/"
        },
        "id": "JN07lvqAokwl",
        "outputId": "aed5aabd-fd94-4f12-daf3-64559b6110a3"
      },
      "execution_count": null,
      "outputs": [
        {
          "output_type": "execute_result",
          "data": {
            "text/plain": [
              "array([2, 5, 3, 1])"
            ]
          },
          "metadata": {},
          "execution_count": 47
        }
      ]
    },
    {
      "cell_type": "markdown",
      "source": [
        "#### 計算注意力強度的向量 $ e = [e_1, e_2, e_3] $，再經過 `softmax`函數轉換成 $ \\alpha $。"
      ],
      "metadata": {
        "id": "h4pdOSDvlESN"
      }
    },
    {
      "cell_type": "code",
      "source": [
        "e1 = np.dot(S3, h1)\n",
        "e2 = np.dot(S3, h2)\n",
        "e3 = np.dot(S3, h3)\n",
        "e = np.array([e1, e2, e3])\n",
        "e"
      ],
      "metadata": {
        "colab": {
          "base_uri": "https://localhost:8080/"
        },
        "id": "1SFIKTQKqjFm",
        "outputId": "6025e106-e4d0-4f3d-f845-7c687144c7e6"
      },
      "execution_count": null,
      "outputs": [
        {
          "output_type": "execute_result",
          "data": {
            "text/plain": [
              "array([10.99997403, 10.94507492, 10.99999707])"
            ]
          },
          "metadata": {},
          "execution_count": 48
        }
      ]
    },
    {
      "cell_type": "markdown",
      "source": [
        "### Softmax 函式"
      ],
      "metadata": {
        "id": "qSq7b44mlESM"
      }
    },
    {
      "cell_type": "markdown",
      "source": [
        "$ x = (x_1, x_2, ..., x_n) $"
      ],
      "metadata": {
        "id": "RhFzN8EhtO4z"
      }
    },
    {
      "cell_type": "markdown",
      "source": [
        "$ \\text{Softmax}(x_j) = \\cfrac{e^{x_j}}{\\sum_{k=1}^{n} e^{x_k}} \\text{, } j = 1,...,n $"
      ],
      "metadata": {
        "id": "HXYY7Nn_2bzy"
      }
    },
    {
      "cell_type": "code",
      "source": [
        "def softmax_0(x): # x是一個向量\n",
        "    c=np.max(x)\n",
        "    x = x - c\n",
        "    return np.exp(x) / np.sum(np.exp(x))"
      ],
      "metadata": {
        "id": "c-RrwMsQJGu1"
      },
      "execution_count": null,
      "outputs": []
    },
    {
      "cell_type": "code",
      "source": [
        "def softmax(x): # x 可以是一個向量或矩陣(多個向量)\n",
        "    x = x - np.max(x, axis=-1, keepdims=True)\n",
        "    return np.exp(x) / np.sum(np.exp(x), axis=-1, keepdims=True)"
      ],
      "metadata": {
        "id": "W9RAG3HA01I-"
      },
      "execution_count": null,
      "outputs": []
    },
    {
      "cell_type": "markdown",
      "source": [
        "#### 注意注意力強度e轉換為$\\alpha$"
      ],
      "metadata": {
        "id": "5Hc7lqjJrTsM"
      }
    },
    {
      "cell_type": "code",
      "source": [
        "alpha = softmax(e)\n",
        "alpha"
      ],
      "metadata": {
        "colab": {
          "base_uri": "https://localhost:8080/"
        },
        "id": "BRrjRKjA40fO",
        "outputId": "a7b514d1-cc7b-4ae6-ee89-900790be58e2"
      },
      "execution_count": null,
      "outputs": [
        {
          "output_type": "execute_result",
          "data": {
            "text/plain": [
              "array([0.33937377, 0.32124464, 0.33938159])"
            ]
          },
          "metadata": {},
          "execution_count": 51
        }
      ]
    },
    {
      "cell_type": "markdown",
      "source": [
        "#### 計算Decoder在t=3所使用的$c_3$"
      ],
      "metadata": {
        "id": "MtIdfIsyJDfp"
      }
    },
    {
      "cell_type": "code",
      "source": [
        "h = np.array([h1, h2, h3])"
      ],
      "metadata": {
        "id": "bx0g2uq6u_19"
      },
      "execution_count": null,
      "outputs": []
    },
    {
      "cell_type": "code",
      "source": [
        "c3 = np.dot(alpha, h)\n",
        "c3"
      ],
      "metadata": {
        "colab": {
          "base_uri": "https://localhost:8080/"
        },
        "id": "Z7Aep62sukyP",
        "outputId": "740c15f6-1685-4cd1-db61-58c223c5b4d7"
      },
      "execution_count": null,
      "outputs": [
        {
          "output_type": "execute_result",
          "data": {
            "text/plain": [
              "array([1.        , 0.99647402, 0.99999843, 0.99998045])"
            ]
          },
          "metadata": {},
          "execution_count": 53
        }
      ]
    },
    {
      "cell_type": "markdown",
      "source": [
        "=========================================================================="
      ],
      "metadata": {
        "id": "V5n6hyOwoybZ"
      }
    },
    {
      "cell_type": "markdown",
      "source": [
        "## hw6-2_第4題 (參考冒險旅程 28)"
      ],
      "metadata": {
        "id": "UgsYa1OUwndt"
      }
    },
    {
      "cell_type": "markdown",
      "source": [
        "\n",
        "$W^{Q}=\n",
        "\\left[\n",
        "\\begin{matrix}\n",
        "0 & 0 & 1  \\\\\n",
        "1 & 0 & 0 \\\\\n",
        "0 & 0 & 1\n",
        "\\end{matrix}\n",
        "\\right]$、\n",
        "$W^{K} =\n",
        "\\left[\n",
        "\\begin{matrix}\n",
        "1 & 0 & 1  \\\\\n",
        "0 & 1 & 1 \\\\\n",
        "0 & 1 & 0\n",
        "\\end{matrix}\n",
        "\\right]$、\n",
        "$W^{V}=\n",
        "\\left[\n",
        "\\begin{matrix}\n",
        "0 & 2 & 1  \\\\\n",
        "1 & 0 & 3 \\\\\n",
        "1 & 0 & 1\n",
        "\\end{matrix}\n",
        "\\right]$"
      ],
      "metadata": {
        "id": "3fTap3l1xfpM"
      }
    },
    {
      "cell_type": "code",
      "source": [
        "WQ = np.array([[0, 0, 1], [1, 0, 0], [0, 0, 1]])\n",
        "WK = np.array([[1, 0, 1], [0, 1, 1], [0, 1, 0]])\n",
        "WV = np.array([[0, 2, 1], [1, 0, 3], [1, 0, 1]])"
      ],
      "metadata": {
        "id": "awUquKbcxfpN"
      },
      "execution_count": null,
      "outputs": []
    },
    {
      "cell_type": "code",
      "source": [
        "Q = np.dot(X, WQ)\n",
        "Q"
      ],
      "metadata": {
        "colab": {
          "base_uri": "https://localhost:8080/"
        },
        "id": "OWcnbOuHwtXx",
        "outputId": "4c65af58-4dc5-47cd-9ce0-8fc817bf41b9"
      },
      "execution_count": null,
      "outputs": [
        {
          "output_type": "execute_result",
          "data": {
            "text/plain": [
              "array([[ 6,  0,  6],\n",
              "       [ 1,  0, 10],\n",
              "       [ 6,  0,  9]])"
            ]
          },
          "metadata": {},
          "execution_count": 55
        }
      ]
    },
    {
      "cell_type": "code",
      "source": [
        "K = np.dot(X, WK)\n",
        "K"
      ],
      "metadata": {
        "colab": {
          "base_uri": "https://localhost:8080/"
        },
        "id": "KDfF4Omvzcw9",
        "outputId": "7ebf9e75-b544-4db3-dd3f-ac533e401f92"
      },
      "execution_count": null,
      "outputs": [
        {
          "output_type": "execute_result",
          "data": {
            "text/plain": [
              "array([[ 0, 12,  6],\n",
              "       [ 6,  5,  7],\n",
              "       [ 3, 12,  9]])"
            ]
          },
          "metadata": {},
          "execution_count": 56
        }
      ]
    },
    {
      "cell_type": "code",
      "source": [
        "V = np.dot(X, WV)\n",
        "V"
      ],
      "metadata": {
        "colab": {
          "base_uri": "https://localhost:8080/"
        },
        "id": "3nl4xuDSzjPI",
        "outputId": "58d6a996-4a8d-48b7-d01a-87105c9b8416"
      },
      "execution_count": null,
      "outputs": [
        {
          "output_type": "execute_result",
          "data": {
            "text/plain": [
              "array([[12,  0, 24],\n",
              "       [ 5, 12, 13],\n",
              "       [12,  6, 27]])"
            ]
          },
          "metadata": {},
          "execution_count": 57
        }
      ]
    },
    {
      "cell_type": "markdown",
      "source": [
        "#### 定義Attention函數 & 給Q, K, V，進行self-attention計算"
      ],
      "metadata": {
        "id": "BHbidh0EpREL"
      }
    },
    {
      "cell_type": "code",
      "source": [
        "def Attention (Q, K, V):\n",
        "  d = 3\n",
        "  return np.dot(softmax(np.dot(Q, K.T) / np.sqrt(d)), V)"
      ],
      "metadata": {
        "id": "qF2hOVSxzn6y"
      },
      "execution_count": null,
      "outputs": []
    },
    {
      "cell_type": "code",
      "source": [
        "att = Attention(Q, K, V)\n",
        "att"
      ],
      "metadata": {
        "colab": {
          "base_uri": "https://localhost:8080/"
        },
        "id": "uVIi5EaL0LoJ",
        "outputId": "54f8c2e6-b549-4c50-a7aa-8cd0c36235fc"
      },
      "execution_count": null,
      "outputs": [
        {
          "output_type": "execute_result",
          "data": {
            "text/plain": [
              "array([[ 5.21245763, 11.81789346, 13.42491526],\n",
              "       [11.99961762,  6.00032772, 26.99923523],\n",
              "       [ 8.5       ,  9.        , 20.        ]])"
            ]
          },
          "metadata": {},
          "execution_count": 59
        }
      ]
    },
    {
      "cell_type": "code",
      "source": [
        "c1 = att[0]\n",
        "c1"
      ],
      "metadata": {
        "colab": {
          "base_uri": "https://localhost:8080/"
        },
        "id": "ghKp7tHP1QCQ",
        "outputId": "bbb91ba7-1646-4a68-fbb4-b0cfa9fc2489"
      },
      "execution_count": null,
      "outputs": [
        {
          "output_type": "execute_result",
          "data": {
            "text/plain": [
              "array([ 5.21245763, 11.81789346, 13.42491526])"
            ]
          },
          "metadata": {},
          "execution_count": 60
        }
      ]
    },
    {
      "cell_type": "code",
      "source": [
        "c2 = att[1]\n",
        "c2"
      ],
      "metadata": {
        "colab": {
          "base_uri": "https://localhost:8080/"
        },
        "id": "vU48UA8MtFuc",
        "outputId": "f7249a4a-6c03-47fe-a29c-e58a407fa931"
      },
      "execution_count": null,
      "outputs": [
        {
          "output_type": "execute_result",
          "data": {
            "text/plain": [
              "array([11.99961762,  6.00032772, 26.99923523])"
            ]
          },
          "metadata": {},
          "execution_count": 61
        }
      ]
    },
    {
      "cell_type": "code",
      "source": [
        "c3 = att[2]\n",
        "c3"
      ],
      "metadata": {
        "colab": {
          "base_uri": "https://localhost:8080/"
        },
        "id": "sys-y2UetIg3",
        "outputId": "e3a79b43-2fc5-4fb7-de33-0e6bc278e21e"
      },
      "execution_count": null,
      "outputs": [
        {
          "output_type": "execute_result",
          "data": {
            "text/plain": [
              "array([ 8.5,  9. , 20. ])"
            ]
          },
          "metadata": {},
          "execution_count": 62
        }
      ]
    }
  ]
}